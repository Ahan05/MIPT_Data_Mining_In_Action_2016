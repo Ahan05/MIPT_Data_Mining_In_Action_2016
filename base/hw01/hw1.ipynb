{
 "cells": [
  {
   "cell_type": "markdown",
   "metadata": {},
   "source": [
    "МФТИ: Data Mining in Action (осень, 2016)\n",
    "\n",
    "* Дмитрий Персиянов, <dmitry.persiyanov@gmail.com>, https://vk.com/persiyanov\n",
    "* Арсений Ашуха, <ars.ashuha@gmail.com>, https://vk.com/ars.ashuha"
   ]
  },
  {
   "cell_type": "markdown",
   "metadata": {},
   "source": [
    "<h1 align='center'>Домашнее задание №1: линейные модели, бустинг</h1>"
   ]
  },
  {
   "cell_type": "markdown",
   "metadata": {},
   "source": [
    "**Дополнительный материал для выполнения дз**:\n",
    "\n",
    "*Линейные модели*:\n",
    "- Лекция 2, DMIA: https://goo.gl/luURTu\n",
    "- Логистическая регрессия, UFLDL Tutorial: http://ufldl.stanford.edu/tutorial/supervised/LogisticRegression/\n",
    "- Линейная регрессия, UFLDL Tutorial: http://ufldl.stanford.edu/tutorial/supervised/LinearRegression/\n",
    "\n",
    "*Бустинг*:\n",
    "- Hastie, The Elements of Statistical Learning, https://goo.gl/k3wfEU, 10 Boosting and Additive Trees 337\n",
    "- Соколов, Семинары по композиционным методам, https://goo.gl/sn8RyJ, http://goo.gl/ajNTQy\n",
    "\n",
    "\n",
    "\n",
    "**Оформление дз**: \n",
    "- Присылайте выполненное задание на почту ``datamininginaction@gmail.com``\n",
    "- Укажите тему письма в следующем формате ``DMIA2016_fall <направление> <фамилия>_<имя> HW1``, к примеру -- ``DMIA2016_fall trends ivanov_ilya HW1``\n",
    "\n",
    "**Вопросы**:\n",
    "- Задавайте вопросы в issues на гитхабе: https://github.com/vkantor/MIPT_Data_Mining_In_Action_2016/issues\n",
    "- Либо в группу или нам в личные сообщения: https://vk.com/data_mining_in_action\n",
    "------------"
   ]
  },
  {
   "cell_type": "markdown",
   "metadata": {},
   "source": [
    "<h1 align='center'>Overview</h1>"
   ]
  },
  {
   "cell_type": "markdown",
   "metadata": {},
   "source": [
    "На последней лекции вы узнали про классические модели машинного обучения, которые каждый Data Scientist должен знать и понимать, как они работают.\n",
    "\n",
    "В этом домашнем задании мы предлагаем вам реализовать две модели: одну линейную -- логистическую регрессию, и модель бустинга над деревьями, а также сравнить их качество на одном датасете.\n",
    "\n",
    "-----------"
   ]
  },
  {
   "cell_type": "markdown",
   "metadata": {},
   "source": [
    "<h1 align='center'>Part 1: Logistic Regression</h1>"
   ]
  },
  {
   "cell_type": "code",
   "execution_count": 22,
   "metadata": {
    "collapsed": false
   },
   "outputs": [
    {
     "name": "stdout",
     "output_type": "stream",
     "text": [
      "The autoreload extension is already loaded. To reload it, use:\n",
      "  %reload_ext autoreload\n"
     ]
    }
   ],
   "source": [
    "import pandas as pd\n",
    "import numpy as np\n",
    "import scipy as sp\n",
    "import tqdm # interactive progress bar\n",
    "from sklearn import cross_validation, datasets, grid_search\n",
    "\n",
    "import matplotlib.pyplot as plt\n",
    "import seaborn as sns; sns.set()\n",
    "\n",
    "%matplotlib inline\n",
    "\n",
    "# see http://stackoverflow.com/questions/1907993/autoreload-of-modules-in-ipython\n",
    "%load_ext autoreload\n",
    "%autoreload 2"
   ]
  },
  {
   "cell_type": "markdown",
   "metadata": {},
   "source": [
    "## 1. Знакомство с данными\n",
    "Данные представляют собой выборку отзывов о еде с сайта Амазон. Для них проставлены метки -- положительный или отрицательный отзыв."
   ]
  },
  {
   "cell_type": "code",
   "execution_count": 3,
   "metadata": {
    "collapsed": false
   },
   "outputs": [],
   "source": [
    "train_df = pd.read_csv('./data/train.csv')"
   ]
  },
  {
   "cell_type": "code",
   "execution_count": 4,
   "metadata": {
    "collapsed": false
   },
   "outputs": [
    {
     "name": "stdout",
     "output_type": "stream",
     "text": [
      "(110163, 3)\n"
     ]
    }
   ],
   "source": [
    "print train_df.shape"
   ]
  },
  {
   "cell_type": "code",
   "execution_count": 5,
   "metadata": {
    "collapsed": false
   },
   "outputs": [
    {
     "data": {
      "text/plain": [
       "0    0.50074\n",
       "1    0.49926\n",
       "Name: Prediction, dtype: float64"
      ]
     },
     "execution_count": 5,
     "metadata": {},
     "output_type": "execute_result"
    }
   ],
   "source": [
    "train_df.Prediction.value_counts(normalize=True)"
   ]
  },
  {
   "cell_type": "markdown",
   "metadata": {},
   "source": [
    "Видим, что классы сбалансированы. Можем оценивать качество модели по метрике ```accuracy```."
   ]
  },
  {
   "cell_type": "code",
   "execution_count": 6,
   "metadata": {
    "collapsed": false
   },
   "outputs": [
    {
     "data": {
      "text/html": [
       "<div>\n",
       "<table border=\"1\" class=\"dataframe\">\n",
       "  <thead>\n",
       "    <tr style=\"text-align: right;\">\n",
       "      <th></th>\n",
       "      <th>ID</th>\n",
       "      <th>Reviews_Summary</th>\n",
       "      <th>Prediction</th>\n",
       "    </tr>\n",
       "  </thead>\n",
       "  <tbody>\n",
       "    <tr>\n",
       "      <th>0</th>\n",
       "      <td>239071</td>\n",
       "      <td>Michigan Cherries</td>\n",
       "      <td>1</td>\n",
       "    </tr>\n",
       "    <tr>\n",
       "      <th>1</th>\n",
       "      <td>466160</td>\n",
       "      <td>Great Product</td>\n",
       "      <td>1</td>\n",
       "    </tr>\n",
       "    <tr>\n",
       "      <th>2</th>\n",
       "      <td>397133</td>\n",
       "      <td>Ovaltine</td>\n",
       "      <td>1</td>\n",
       "    </tr>\n",
       "    <tr>\n",
       "      <th>3</th>\n",
       "      <td>297146</td>\n",
       "      <td>~</td>\n",
       "      <td>1</td>\n",
       "    </tr>\n",
       "    <tr>\n",
       "      <th>4</th>\n",
       "      <td>292685</td>\n",
       "      <td>Love it!</td>\n",
       "      <td>1</td>\n",
       "    </tr>\n",
       "  </tbody>\n",
       "</table>\n",
       "</div>"
      ],
      "text/plain": [
       "       ID    Reviews_Summary  Prediction\n",
       "0  239071  Michigan Cherries           1\n",
       "1  466160      Great Product           1\n",
       "2  397133           Ovaltine           1\n",
       "3  297146                  ~           1\n",
       "4  292685           Love it!           1"
      ]
     },
     "execution_count": 6,
     "metadata": {},
     "output_type": "execute_result"
    }
   ],
   "source": [
    "train_df.head()"
   ]
  },
  {
   "cell_type": "code",
   "execution_count": 7,
   "metadata": {
    "collapsed": false
   },
   "outputs": [
    {
     "data": {
      "text/html": [
       "<div>\n",
       "<table border=\"1\" class=\"dataframe\">\n",
       "  <thead>\n",
       "    <tr style=\"text-align: right;\">\n",
       "      <th></th>\n",
       "      <th>ID</th>\n",
       "      <th>Reviews_Summary</th>\n",
       "      <th>Prediction</th>\n",
       "    </tr>\n",
       "  </thead>\n",
       "  <tbody>\n",
       "    <tr>\n",
       "      <th>110158</th>\n",
       "      <td>486256</td>\n",
       "      <td>Terrible!</td>\n",
       "      <td>0</td>\n",
       "    </tr>\n",
       "    <tr>\n",
       "      <th>110159</th>\n",
       "      <td>199050</td>\n",
       "      <td>Cheap Coffee, No Banana Flavor</td>\n",
       "      <td>0</td>\n",
       "    </tr>\n",
       "    <tr>\n",
       "      <th>110160</th>\n",
       "      <td>278179</td>\n",
       "      <td>Not as described</td>\n",
       "      <td>0</td>\n",
       "    </tr>\n",
       "    <tr>\n",
       "      <th>110161</th>\n",
       "      <td>87500</td>\n",
       "      <td>Tastes like a squirt of toothpaste mixed into ...</td>\n",
       "      <td>0</td>\n",
       "    </tr>\n",
       "    <tr>\n",
       "      <th>110162</th>\n",
       "      <td>121963</td>\n",
       "      <td>Disappointed</td>\n",
       "      <td>0</td>\n",
       "    </tr>\n",
       "  </tbody>\n",
       "</table>\n",
       "</div>"
      ],
      "text/plain": [
       "            ID                                    Reviews_Summary  Prediction\n",
       "110158  486256                                          Terrible!           0\n",
       "110159  199050                     Cheap Coffee, No Banana Flavor           0\n",
       "110160  278179                                   Not as described           0\n",
       "110161   87500  Tastes like a squirt of toothpaste mixed into ...           0\n",
       "110162  121963                                       Disappointed           0"
      ]
     },
     "execution_count": 7,
     "metadata": {},
     "output_type": "execute_result"
    }
   ],
   "source": [
    "train_df.tail()"
   ]
  },
  {
   "cell_type": "markdown",
   "metadata": {},
   "source": [
    "----------\n",
    "## 2. Извлечение признаков\n",
    "Для решения задачи классификации необходимо преобразовать каждый отзыв (документ) в вектор. Размерность данного вектора будет равна количеству слов используемых в корпусе (все документы). Каждая координата соответствует слову, значение в координает равно количеству раз, слово используется в документе. \n",
    "\n",
    "Для решения данной задачи вам необходимо написать код, который преобразовывает матрицу документов в численную матрицу.\n",
    "\n",
    "Дополнительная информация для решения задачи:\n",
    "\n",
    "- Подробнее про векторное представление документов: http://scikit-learn.org/stable/modules/feature_extraction.html#text-feature-extraction\n",
    "- Используйте данный трансформер: http://scikit-learn.org/stable/modules/feature_extraction.html#common-vectorizer-usage\n",
    "- Подробнее про разреженные матрицы: http://docs.scipy.org/doc/scipy-0.14.0/reference/sparse.html\n",
    "- Hashing trick: https://en.wikipedia.org/wiki/Feature_hashing\n",
    "\n",
    "Помните, что все эти трансформеры возвращают ```sparse```-матрицы. Учитывая это и то, что линейные модели достаточно хорошо масштабируются на большое количество фич, можно смело ставить ```n_features``` 1000+."
   ]
  },
  {
   "cell_type": "code",
   "execution_count": 8,
   "metadata": {
    "collapsed": true
   },
   "outputs": [],
   "source": [
    "review_summaries = list(train_df['Reviews_Summary'].values)\n",
    "review_summaries = [l.lower() for l in review_summaries]"
   ]
  },
  {
   "cell_type": "code",
   "execution_count": 9,
   "metadata": {
    "collapsed": false
   },
   "outputs": [
    {
     "data": {
      "text/plain": [
       "['michigan cherries',\n",
       " 'great product',\n",
       " 'ovaltine',\n",
       " '~',\n",
       " 'love it!',\n",
       " 'yummy gf cereal',\n",
       " 'satisfied completely with amazon purchase',\n",
       " 'perfect chicken mix',\n",
       " 'best seved cold!!',\n",
       " 'worth the price',\n",
       " 'the best pizza flour',\n",
       " 'pie making with sweet rice flour',\n",
       " 'good and cheap',\n",
       " 'great treats for the treat ball.',\n",
       " 'the babies love it',\n",
       " 'better than fresh fruit',\n",
       " 'best bar!!',\n",
       " 'remember charlie the tuna?',\n",
       " 'best ever!!!',\n",
       " 'great sparkling apple soda drink',\n",
       " 'dentyne gum',\n",
       " 'so cute',\n",
       " 'well done',\n",
       " 'great as a treat within a well-balanced baby diet',\n",
       " 'the best dog food!',\n",
       " 'fresh!',\n",
       " 'great',\n",
       " 'great product',\n",
       " 'overall winner in the office',\n",
       " 'taste good and are filling.',\n",
       " 'great tasting maple syrup',\n",
       " 'my yorkiepoo ate it like a treat... we mixed it with his pedigree',\n",
       " 'stash brand teas: a personal favorite for 10+ years',\n",
       " 'high quality matcha',\n",
       " 'makes a good cuppa coffee',\n",
       " 'dog loves it!',\n",
       " 'love twinings decaff!',\n",
       " 'yummy',\n",
       " 'yum',\n",
       " 'real chocolate, fine quality & excellent taste!',\n",
       " 'best ever!!!!',\n",
       " 'great white kidney beans',\n",
       " 'great taste, less sodium',\n",
       " 'amazing flavor',\n",
       " 'dreams of orange chocolate perfection',\n",
       " 'oils',\n",
       " \"mrs may's trio bars\",\n",
       " 'awesome!!',\n",
       " 'king of the green',\n",
       " 'deliciousness!',\n",
       " \"amy's organic lentil vegetable low salt soup\",\n",
       " 'i like these cookies!',\n",
       " 'product quality',\n",
       " \"the best flaxseeds i've ever had\",\n",
       " 'my dog ellie loves these chews!',\n",
       " 'christmas delights for the family',\n",
       " 'green superfood',\n",
       " 'movie theater popcorn @ home !',\n",
       " 'taste so good!',\n",
       " 'creamy, delicious',\n",
       " \"gluten free let's you live a normal life\",\n",
       " 'great for tapenade',\n",
       " 'shizzlelicious!!',\n",
       " 'great chips',\n",
       " 'great taste but...',\n",
       " 'pop chips are great',\n",
       " 'great gf pasta',\n",
       " 'yum yum',\n",
       " 'a fantastic way to make cappuccino',\n",
       " \"a great oatmeal cookie (and it's gluten-free)\",\n",
       " 'great tea, no grittiness, very smooth',\n",
       " 'great treat',\n",
       " \"can't live without it!\",\n",
       " 'potty problems gone',\n",
       " 'i am not a fan of swiss cheese, but this stuff is excellent!',\n",
       " 'good stuff!!',\n",
       " 'still working 2 years later',\n",
       " 'great little snack for hubby and me',\n",
       " 'it is so delicious!',\n",
       " 'great crunchy sweet treat',\n",
       " 'good stuff',\n",
       " 'excellent way to get your chocolate fix...',\n",
       " 'smooth strong coffee...',\n",
       " 'delicious marinade',\n",
       " 'happy cat',\n",
       " 'this is a wow bone!',\n",
       " 'tasty!',\n",
       " 'great price!!!',\n",
       " 'puppy loves it',\n",
       " 'soy lecithin powerder',\n",
       " 'great gluten-free option',\n",
       " 'if i had am illion stars it would not be enough',\n",
       " 'k-cups coffee',\n",
       " 'love this stuff!',\n",
       " 'a true delight',\n",
       " 'always',\n",
       " 'really good!!',\n",
       " 'perfect for adding flavor to dry food. our little dog loves this stuff',\n",
       " 'great product , no sodium , 100% natural , tasty and easy to cook !!! loving it !',\n",
       " 'oh, hubba my bubba...',\n",
       " 'spicy and great',\n",
       " 'baby lilly says 2 thumbs up!',\n",
       " 'crunchy, spicy, not too sweet - yum!',\n",
       " 'best gummi bears in world',\n",
       " 'delicious!',\n",
       " 'great crackers',\n",
       " 'very cute',\n",
       " 'best pop chips ever!',\n",
       " 'great treat',\n",
       " 'great taste, great price',\n",
       " 'great snack!',\n",
       " 'liquid health',\n",
       " 'noonie55',\n",
       " 'freedent gum at amazon',\n",
       " 'best quality. *pure* almond butter',\n",
       " 'my sheltie absolutely loves zukes',\n",
       " 'i could not find these in any local stores for many months',\n",
       " 'husband loves the sauces',\n",
       " 'great little juniper bonsai!',\n",
       " 'favorite ball of my dogs!',\n",
       " 'treat',\n",
       " 'tasty and healthy!',\n",
       " 'zoey sez: \"yum!\" ... mom sez: \"er, there\\'s corn syrup in these...\"',\n",
       " 'delicious',\n",
       " 'fabulous pasta -- and healthy too (!).',\n",
       " 'awesome flavor - low fat!',\n",
       " 'yummm',\n",
       " 'yum',\n",
       " 'great pasta!',\n",
       " 'just like the restuarant tea',\n",
       " 'easy packaging and great deal!',\n",
       " 'organic and amazingly delicious',\n",
       " 'flashback!',\n",
       " 'what a brilliant appliance!',\n",
       " 'toasted, the only way to go....',\n",
       " \"these things aren't cheap, but boy are they good!\",\n",
       " 'my favorite flavor',\n",
       " 'are you a ginger fan?',\n",
       " 'apricot syrup',\n",
       " 'my 65 lb boxer loves diamond naturals beef and rice',\n",
       " 'mmmmm!',\n",
       " 'amazing quality of teas',\n",
       " 'portable and tasty fruit leather!',\n",
       " 'real candy cane shavings in this!',\n",
       " 'tastes great!',\n",
       " 'outstanding service, teas, and shipping',\n",
       " 'very strong!',\n",
       " 'taste good and high protein',\n",
       " \"my cat's favorite flavor\",\n",
       " 'how pasta should taste!',\n",
       " 'delightful for a sweet tooth',\n",
       " 'the best hot sauce ever!',\n",
       " 'i love this hot chocolate for the keurig!',\n",
       " 'very fine',\n",
       " 'worked for me!',\n",
       " 'our favorite cheese crackers',\n",
       " 'replacing processed or fake sugar',\n",
       " 'fruity, sweet matcha!',\n",
       " 'gloria jeans hazlenut kcups',\n",
       " 'kashi banana chocolate chip yummy',\n",
       " 'mandarin green tea',\n",
       " 'cat chews to clean teeth',\n",
       " 'very good product!',\n",
       " 'ice cream makings',\n",
       " 'my cat likes it',\n",
       " 'love torrones!!!',\n",
       " 'breeder recommended & cavalier king charles puppy loves it!',\n",
       " 'best snack crackers ever!',\n",
       " 'my doctor suggested these',\n",
       " 'breakfast cereal',\n",
       " 'awesome deal',\n",
       " 'hmmm, coffeeeee',\n",
       " 'sf bay coffee',\n",
       " 'a little more expensive, but worth every penny!',\n",
       " 'very soothing',\n",
       " 'great rawhide substitute',\n",
       " 'fresh as ever',\n",
       " 'great taste, great benefits!',\n",
       " 'great product',\n",
       " 'great mustard! this is the real stuff for grown-ups',\n",
       " 'quinoa soul food of the andes, pre-washed',\n",
       " 'healthy drinks',\n",
       " 'great tasting tea, one cup at a time!',\n",
       " 'best bbq chip on the market today, they pop with flavor!',\n",
       " 'wonderful treats for training',\n",
       " 'great for busy moms!',\n",
       " 'tasty little chips',\n",
       " 'hard to find in stores.',\n",
       " 'very nice',\n",
       " 'good, but amazon has the flavor names wrong',\n",
       " 'very nice, one of my favorites!',\n",
       " '\"my dog loves them\"',\n",
       " 'great, loved it but what happened to the price?',\n",
       " 'best chocolate drink ever',\n",
       " 'good price, great taste',\n",
       " 'kind chocolate, cherry, cashew',\n",
       " 'catmilk for all my friends!',\n",
       " 'customer satisfied',\n",
       " 'wonderful tea!',\n",
       " 'best drink for cycling',\n",
       " 'fantastic alternative to wheat pasta',\n",
       " 'very good!',\n",
       " 'worked 1st day!',\n",
       " 'gluten-free pantry favorite sandwich bread mix',\n",
       " 'must have for puppy owners!',\n",
       " 'jet fuel got me through air force pilot training',\n",
       " 'just what i was looking for.',\n",
       " 'the best chai available!!',\n",
       " 'just like startbucks',\n",
       " 'this is bold!!!',\n",
       " 'good and good for you',\n",
       " 'my daily green tea ~ excellent taste and value',\n",
       " 'bully sticks',\n",
       " 'outstanding coffee',\n",
       " 'fit fruit wash',\n",
       " 'perfect snack, perfect size!',\n",
       " 'overall, best cereal on the market imho',\n",
       " 'found what i been looking for',\n",
       " 'absolutely the best!!!',\n",
       " \"our dog tina's favorite snack!\",\n",
       " \"can't beat the price\",\n",
       " 'good stuff',\n",
       " 'morning protein shake',\n",
       " 'excellent coffee',\n",
       " 'yummy',\n",
       " 'pattid',\n",
       " 'excellant product - good price',\n",
       " 'chinese tea',\n",
       " 'new hope the best',\n",
       " 'best buy',\n",
       " \"by far the best chai i've had\",\n",
       " 'great food for multi-cat household also!',\n",
       " 'super taste sensation, not too hot, but spicy enough for children to crave',\n",
       " \"couldn't be without these pill pockets\",\n",
       " 'the best so far',\n",
       " 'very good spice kit',\n",
       " 'potato soup',\n",
       " 'check your local asian store first! cheap in store!',\n",
       " 'simply delicious!',\n",
       " 'wow!',\n",
       " 'delicious!',\n",
       " 'nestle hot cocoa mix',\n",
       " 'my dog loves it',\n",
       " 'convenient and delicious!',\n",
       " 'water kefir grains (not milk as others have reviewed)',\n",
       " 'not an ordinary potato snack',\n",
       " 'price is right',\n",
       " 'good breakfast',\n",
       " \"tastes great and it's good for you!\",\n",
       " 'no calories or sugar, but lots of flavor',\n",
       " 'the happy wife',\n",
       " 'delicious wine!! yummy!',\n",
       " 'the first 50 bricks were great',\n",
       " 'nutritious and convenient',\n",
       " 'dog cookies',\n",
       " 'yum',\n",
       " 'great product!',\n",
       " 'bear creek cheddar broccoli soup',\n",
       " 'healthy for your dog and they last',\n",
       " 'natural dark chocolate taste',\n",
       " 'great product!',\n",
       " 'one bite and you\\'ll become a \"chippoisseur\"',\n",
       " 'fantastic',\n",
       " 'coconut oil for head lice',\n",
       " 'dental chews for dogs teeth',\n",
       " 'cinnamon apple spice is the best!',\n",
       " 'wiskas  temptations',\n",
       " 'the best earl grey out there',\n",
       " 'great cup of coffe; 5 cents more per cup that at store',\n",
       " 'delicious seasoning',\n",
       " 'like candy for your dog',\n",
       " 'great cup of joe..',\n",
       " 'chocolate dipped frog cookies',\n",
       " 'keep coming back to crystal!',\n",
       " 'this works!',\n",
       " 'this is the one',\n",
       " 'grew up on it and i love it',\n",
       " 'excellent product and made in u.s.a.',\n",
       " 'sun maid california golden raisins, 15-ounce boxes (pack of 6)',\n",
       " 'best taste ever',\n",
       " 'healthy cooks',\n",
       " 'formula',\n",
       " 'steak burgers mmm!',\n",
       " 'the best gluten free pasta alternative',\n",
       " 'excellent product',\n",
       " 'satisfied customer',\n",
       " 'best almonds ever',\n",
       " 'peppermint hershey kisses',\n",
       " 'great service',\n",
       " 'no more bpa!',\n",
       " 'great hydration drink',\n",
       " 'coffee storage drawer',\n",
       " 'excellent cat food, causes enthusiastic eating',\n",
       " 'mio mango peach (liquid)',\n",
       " 'i wish i thought of it sooner.',\n",
       " 'oh, my stars in heaven',\n",
       " 'good flavor! happy with product*****',\n",
       " 'our dogs love these treats!',\n",
       " \"love bob's red mill products\",\n",
       " \"zhena' tea. best tea!\",\n",
       " 'skim milk move over!',\n",
       " 'two thumps up!  (way up)',\n",
       " 'great product, for one main reason.',\n",
       " 'not involved in the recall',\n",
       " 'yumm!  :od',\n",
       " 'wonderful taste',\n",
       " 'best crystal light flavor!!!',\n",
       " 'kids love it.',\n",
       " 'not decaf, error in product features description',\n",
       " 'my dog will do anything for this!',\n",
       " 'amazing',\n",
       " 'great shells!',\n",
       " 'good stuff',\n",
       " 'yum!',\n",
       " 'greenies dental chews for dogs, teenie pack, 96 chews',\n",
       " 'doggie nirvana',\n",
       " 'leo would walk through fire for salmon, through rain for peanut butter',\n",
       " 'great deal on k-cups!',\n",
       " 'spicyjust',\n",
       " 'great popcorn',\n",
       " 'best energy drink around with no sugar',\n",
       " 'not so goaty- which is good!',\n",
       " 'great price and quality',\n",
       " 'really fresh and tasty',\n",
       " 'my very favorite coffee.',\n",
       " 'outstanding, bold, lively sumatran. best of the k-cups',\n",
       " 'a good, great-smelling cup of coffee.',\n",
       " 'popchips',\n",
       " 'first-class split pea soup',\n",
       " 'yum!',\n",
       " 'weaned my kittens!',\n",
       " 'wonderful!',\n",
       " 'coffee from amazon',\n",
       " 'wonderful for snacking too!',\n",
       " 'gloria jeans hazelnut k cups',\n",
       " \"it's hemp milk\",\n",
       " 'i love it every morning!',\n",
       " \"finally!!  i'm so glad to finally see this on amazon!!\",\n",
       " 'the best-tasting sugar free chocolate out there',\n",
       " 'my dog loves this stuff.',\n",
       " 'jack links is the best!',\n",
       " 'fast shipment',\n",
       " 'high mountain magic.  food of the gods',\n",
       " 'love these',\n",
       " 'she loves it',\n",
       " 'dogs love them!',\n",
       " 'rose extract',\n",
       " 'my dogs favorite treat!',\n",
       " 'the best black tea',\n",
       " 'prince of wales tea review',\n",
       " 'excellent brightness - very efficient',\n",
       " 'hot buffalo wing pretzels',\n",
       " 'delicious!',\n",
       " 'the best!!! allows you to make tea just as good as starbucks!',\n",
       " 'tasty, crunchy',\n",
       " 'woflgang puck favorite !!',\n",
       " 'easy coffee',\n",
       " 'unique but tons better than the normal top ramen',\n",
       " 'excellent dog food for some',\n",
       " 'great value',\n",
       " 'fantastic!',\n",
       " 'thanks',\n",
       " 'love at first bite',\n",
       " 'gave this as a gift.',\n",
       " 'superb quality!',\n",
       " 'yum',\n",
       " 'my doggies liked it',\n",
       " 'excellent tool!',\n",
       " 'my son loves it!',\n",
       " 'works great for training!',\n",
       " 'yummy to the tummy',\n",
       " 'yummy orange tea!',\n",
       " 'wonderful tuna',\n",
       " 'i was pleasantly surprised!',\n",
       " 'good, and just enough to satisfy you.',\n",
       " 'if you like slim jims and/or tabasco, then these babies are fantastic. hot, but delicious. a+!!!',\n",
       " \"yes, we found an easy way to make subway's chipotle sauce\",\n",
       " 'whiskas tender bites',\n",
       " 'we love the flour!',\n",
       " 'fantastic flavor',\n",
       " 'great product',\n",
       " 'as expected',\n",
       " 'gotta love the sugar free cider',\n",
       " 'ah!mazing',\n",
       " 'excellent product',\n",
       " 'amish country rainbow blend popcorn',\n",
       " 'kids love them',\n",
       " 'fabulous',\n",
       " \"12 pck of reed's crystallized ginger candy\",\n",
       " 'so tasty',\n",
       " 'gratification times 10!',\n",
       " 'excellent by itself or in hummus/baba ganoush',\n",
       " 'good flavor!',\n",
       " 'good decision!',\n",
       " 'good quality tea, good packing and reasonable shipping time',\n",
       " 'great',\n",
       " 'viva la florentine torrone',\n",
       " \"best natural energy boost i've ever taken\",\n",
       " 'my favorite',\n",
       " 'my favorite since i was a child in hawaii',\n",
       " 'excellent good tasting coffee',\n",
       " 'great taste',\n",
       " 'india tree carousel rainbow cake sprinkles, 2.7 oz (pack of 3)',\n",
       " \"best i've used\",\n",
       " 'best ever',\n",
       " 'great product',\n",
       " 'nice solution for flavored coffee lovers',\n",
       " 'great gift',\n",
       " \"best tea on earth (no, i don't own company stock!)\",\n",
       " 'delicious!',\n",
       " 'mango soda!',\n",
       " 'excellent',\n",
       " 'great bedtime snack for diabetics',\n",
       " 'the best tea cookie',\n",
       " 'and cats too.....',\n",
       " 'thank goodness for this cat food!',\n",
       " 'good sturgeon (black) caviar',\n",
       " 'addictive',\n",
       " \"where's the movie?\",\n",
       " 'delightful!',\n",
       " 'great product',\n",
       " 'did i forget to mention? -- it tastes good too!!!',\n",
       " 'smooooth',\n",
       " 'best green tea in a bag',\n",
       " 'much cheaper locally, awesome peanut butter',\n",
       " 'the best',\n",
       " 'amazing pasta',\n",
       " 'love love love',\n",
       " 'absolutely delicious',\n",
       " 'great ginger taste',\n",
       " 'delicious treats!',\n",
       " 'my dog loves it!',\n",
       " 'magic food!',\n",
       " 'barley bread mix',\n",
       " 'super flavor!!!',\n",
       " 'super way to get protein boost',\n",
       " 'one of my favorite candy bars',\n",
       " 'a nice snack',\n",
       " 'pero, instant natural beverage',\n",
       " 'excellent mole trap',\n",
       " 'addicted to this stuff',\n",
       " 'energy in a bottle!!',\n",
       " 'wow! it really does work! do not try vinegar though!',\n",
       " 'convenient!',\n",
       " 'a great finishing touch over well made meals',\n",
       " 'double bergamont tea',\n",
       " \"the world's best bagel chips!!!\",\n",
       " 'newman knew his stuff',\n",
       " 'love them',\n",
       " 'perfect protein snack',\n",
       " 'love it!',\n",
       " 'the dog loves them and they probably help his teeth',\n",
       " 'love these- get the large size',\n",
       " 'coffee with  joy',\n",
       " 'pro plan shredded blend large breed formula',\n",
       " 'so good!',\n",
       " 'very nice and good',\n",
       " 'world-famous new orleans donut squares you can make at home!',\n",
       " 'excellent grain free dry cat food.',\n",
       " 'thank you betty crocker!',\n",
       " 'half a century and still love it',\n",
       " 'very reasonably priced and delicious',\n",
       " 'slim jims',\n",
       " 'review on hunter sauce',\n",
       " 'yummmmm!!!!',\n",
       " 'the simple pleasure of chocolate combined with peanut butter',\n",
       " 'very yummy',\n",
       " 'my cat loves these!!!',\n",
       " 'fruit and nut breakfast cookie',\n",
       " 'my dog loves these',\n",
       " 'great coffee if you like your coffee strong>>>',\n",
       " 'yummmm',\n",
       " 'great travel snack!',\n",
       " 'theater popcorn',\n",
       " 'movie theater popcorn at home!!!!',\n",
       " 'great taste',\n",
       " 'jclngbch',\n",
       " 'great stuff,and a must to have',\n",
       " 'best olive oil ever',\n",
       " 'david rio flamingo vanilla decaf sugar free chai',\n",
       " 'true english tea',\n",
       " 'these are great !!',\n",
       " 'love this coffee!',\n",
       " 'these are amazing!!',\n",
       " 'bring m80 back to dallas',\n",
       " 'simply amazing! my siberian huskies seem to think so too.',\n",
       " 'this is really great lower calories soft drink and tastes good too.',\n",
       " 'great northern popcorn',\n",
       " 'great for food allergies!',\n",
       " 'super fresh and good',\n",
       " 'tasty!',\n",
       " 'these are the best chips ever',\n",
       " 'yum worth it!!',\n",
       " 'my opinion',\n",
       " 'great wheat-free dairy-free product',\n",
       " 'get up & go !!!',\n",
       " 'love these chips!',\n",
       " 'the most wonderful dark roast coffee',\n",
       " 'great snack',\n",
       " 'my favorite quick snack!!',\n",
       " 'intense flavor for just a few calories.',\n",
       " 'great product at a great price',\n",
       " 'i love salt, so i love these',\n",
       " 'best coffe yet',\n",
       " 'great food!',\n",
       " 'pleasantly surprised!',\n",
       " 'thank you glutino',\n",
       " 'love this stuff',\n",
       " 'delicious, well balanced flavor',\n",
       " 'delicious!',\n",
       " 'my boy likes it.',\n",
       " 'lame without it.',\n",
       " 'the right stuff',\n",
       " 'a product i had been waiting for, lived up to the hype',\n",
       " 'great maypo purchase',\n",
       " 'carmel apple tea',\n",
       " 'awesome protein bars!',\n",
       " 'raw diet for dogs',\n",
       " 'great tasting jack links',\n",
       " 'pugsly loves lean treats',\n",
       " 'soothing',\n",
       " 'my absolute favorite green tea',\n",
       " 'jfg coffee',\n",
       " \"as good as my moms' curry!\",\n",
       " 'best coffee',\n",
       " 'best of the oyster sauces we have tried',\n",
       " 'mmmmh... jummy',\n",
       " 'this stuff is great!!!!',\n",
       " 'my husband and kids cannot get enough of these cookies!',\n",
       " 'none better-buy it',\n",
       " 'love this syrup; good substitute for other syrups in recipes',\n",
       " \"this food saved moe's life...........\",\n",
       " 'holy click! this stuff is amazing!',\n",
       " 'tasty & moist sardines',\n",
       " 'love it!',\n",
       " 'delicious cookies, but........',\n",
       " 'excellent oatmeal bar',\n",
       " 'simple and elegant',\n",
       " 'best gum ever',\n",
       " 'freshly roasted coffee in a pod',\n",
       " 'great product',\n",
       " 'great results --movie theater popcorn at home!',\n",
       " 'best chocolate drink ever',\n",
       " 'excellent product',\n",
       " 'awesome!',\n",
       " 'wonderful white chocolate taste!',\n",
       " 'i took a chance... and i love them!',\n",
       " 'pb2 is great!',\n",
       " 'the best blow pops ever!',\n",
       " 'yummy!',\n",
       " 'dogs love it',\n",
       " 'wonderful flavor',\n",
       " 'favorite lipton green tea flavor',\n",
       " 'great tasting & excellent variety',\n",
       " 'good mystery present',\n",
       " 'diet help.',\n",
       " 'best beef jerky on amazon',\n",
       " 'great tasting but amazon price too high',\n",
       " 'like c4 explosive if not treated with respect!',\n",
       " 'best coffee ever',\n",
       " 'a good single serve d-caf',\n",
       " 'the best cookie ever',\n",
       " 'excelent blend',\n",
       " 'good organic option',\n",
       " 'loved it!',\n",
       " 'better than homemade..',\n",
       " 'these are great',\n",
       " 'omg...... tastes better than coffee',\n",
       " 'rather true to form - right amount of sweetness',\n",
       " 'our dog loves these!',\n",
       " 'wonderful coffee',\n",
       " 'great coffee',\n",
       " 'great food',\n",
       " \"first herbal tea i've ever liked\",\n",
       " 'lipton spiced chai review',\n",
       " \"my 'special treat' for those leisure times\",\n",
       " 'peachy keen',\n",
       " 'as advertised',\n",
       " 'great chocolate basket!!!',\n",
       " 'a good cereal at a good price',\n",
       " 'the best seasoning and rub for a prime rib in the world!',\n",
       " 'a healthy cookie',\n",
       " 'got best price from amazon',\n",
       " 'pure peach',\n",
       " 'good, strong, black tea',\n",
       " \"after a few cans, i'm hooked.\",\n",
       " \"doggie's change of pace\",\n",
       " 'chickpeas',\n",
       " 'the best coffee',\n",
       " 'very creamy!  love it!',\n",
       " 'feed my two dogs only wellness brand. consistently on top ten canned dog food lists',\n",
       " 'great price great ingredients',\n",
       " 'gourmet gift basket',\n",
       " 'just who does not like oreos',\n",
       " 'if you love caramel popcorn...',\n",
       " 'the best in canned tuna',\n",
       " 'beware, highly addictive!',\n",
       " 'carson',\n",
       " 'good tasting pretzels',\n",
       " 'excellent cat food',\n",
       " 'hubby loves this',\n",
       " 'formula that works',\n",
       " 'dog loves them',\n",
       " \"love this when i'm sick\",\n",
       " 'sunmaid honey raisin bran muffins',\n",
       " \"such good coffee - we're spoiled!\",\n",
       " 'these are amaaaaaaazing!!!',\n",
       " 'planters big nut bars.',\n",
       " 'yum',\n",
       " 'it is a man thing',\n",
       " 'love!',\n",
       " 'bbq!!',\n",
       " 'healthy alternative',\n",
       " 'great find',\n",
       " 'the\"real mccoy\"',\n",
       " 'good seasons cheese garlic dressing',\n",
       " 'mild but effective!',\n",
       " 'delicious mixed nuts & white chocolate bar!!!',\n",
       " \"joffrey's winter wonderland coffee\",\n",
       " \"if you're gonna drink junk.... drink good junk!\",\n",
       " 'good source for plain m&ms',\n",
       " 'excellent product',\n",
       " 'good',\n",
       " 'great snacks',\n",
       " 'great product but hi-way robbery!!!',\n",
       " 'delicious',\n",
       " 'good',\n",
       " 'great transition food!',\n",
       " 'love this spice',\n",
       " 'love this product!',\n",
       " 'amazing garlic powder, no fillers!',\n",
       " \"eight o'clock coffee\",\n",
       " 'favorite spaghetti',\n",
       " 'viperron',\n",
       " 'good w/o the mess',\n",
       " 'my current favorite bold and rich kcup!',\n",
       " 'cat orgasmic cream',\n",
       " 'great food for my cats',\n",
       " 'love it...should be in every kitchen..so much flavor!',\n",
       " 'naked 100% coconut water',\n",
       " 'sweetness',\n",
       " 'awesome summer blend',\n",
       " 'pill pockets',\n",
       " 'great chew treats for dental cleaning!',\n",
       " 'no  more moths!!!',\n",
       " 'yummy',\n",
       " 'great dog toy',\n",
       " 'addictive',\n",
       " 'great food',\n",
       " 'delicious!',\n",
       " 'authentic',\n",
       " 'terrific!',\n",
       " 'heaven in a cup!!!',\n",
       " 'roland basmati white rice',\n",
       " 'fast service, great shipping and quality',\n",
       " 'great price for a fun and tasty product!',\n",
       " 'super easy nutrition',\n",
       " 'omg!!! delicious!!!',\n",
       " 'healthy product',\n",
       " 'not just for special occasions',\n",
       " 'i just started using amazing grass green superfood',\n",
       " 'great tasting...',\n",
       " 'coffee',\n",
       " 'no more fighting to get pills down',\n",
       " 'great taste and price',\n",
       " 'blue diamond almonds',\n",
       " 'great price and product!',\n",
       " 'wonderful cookie + also try the brownies!',\n",
       " 'yum!',\n",
       " 'if you are peruvian, you will love it!',\n",
       " 'i love them!!!',\n",
       " 'awesome.',\n",
       " 'bran fiber crackers are effective and not too bad.......',\n",
       " 'heavenly pralines',\n",
       " 'thank you amazon!',\n",
       " 'great right after your work out',\n",
       " 'excellent gluten free muffins that anyone will enjoy!',\n",
       " 'fantastic chopped nuts!',\n",
       " 'lemon newton thins',\n",
       " 'dark chocolate chunk cookies',\n",
       " 'caution: kettle chips are addictive!',\n",
       " 'delicious tea',\n",
       " \"i'm so happy i can eat pancakes again!!\",\n",
       " 'i would recommend this product.',\n",
       " 'better than amazing grass chocolate',\n",
       " 'great chili',\n",
       " 'great coffee',\n",
       " 'best chocolate on earth',\n",
       " \"timothy's rainforest extra bold\",\n",
       " 'great product',\n",
       " 'emerils big easy bold k cups for keurig (50)',\n",
       " 'something different,',\n",
       " 'best damn noodles ever',\n",
       " 'my whole family loved them',\n",
       " 'amazing coffee, good expiration date, in retail packaging',\n",
       " 'canine testimonial',\n",
       " 'awesome coffee!!!',\n",
       " 'even great for adults',\n",
       " 'great snack',\n",
       " 'love these',\n",
       " 'the.best.coffee.ever',\n",
       " 'excellent saffron',\n",
       " 'yummiest taffy ever!!',\n",
       " 'hard to find year-round great item',\n",
       " 'so good!',\n",
       " 'my dog loves these!',\n",
       " 'with a little help, superb',\n",
       " 'there are no substitutes',\n",
       " 'exactly as expected',\n",
       " 'great flavor',\n",
       " 'back to nature peanut butter  creme cookies',\n",
       " 'best price',\n",
       " 'great eye cleaner pads for dogs and cats',\n",
       " 'picky son loves these',\n",
       " 'love this stuff',\n",
       " 'exactly as pictured',\n",
       " 'nice and crunchy cereal',\n",
       " 'jars of tomato paste',\n",
       " 'cereal',\n",
       " \"it's a keeper!\",\n",
       " 'picky eaters at my home love this gravy!',\n",
       " 'awesome!',\n",
       " 'wow! some of the meatiest sardines we have ever eaten.',\n",
       " 'outstanding tuna',\n",
       " 'pop tarts - eat your heart out!!!',\n",
       " 'top quality stuff!!',\n",
       " 'smooth energy',\n",
       " 'just like honey',\n",
       " 'delicious and versatile for the low carb dieter',\n",
       " 'great product, super fast shipping!',\n",
       " 'just right.',\n",
       " 'this is it!',\n",
       " 'mmmm .... healthy and yummy!',\n",
       " 'never hungry',\n",
       " 'the best',\n",
       " 'love it !!!',\n",
       " \"i can't believe they are gluten free!\",\n",
       " 'great multigrain chips',\n",
       " 'a top garden radish',\n",
       " \"you can't go wrong with banana laffy taffy!\",\n",
       " 'excellent',\n",
       " 'baconaise',\n",
       " 'great treats',\n",
       " 'green mountain coffee',\n",
       " 'great standing prime rib',\n",
       " 'no dehydration again!',\n",
       " 'stash chai tea',\n",
       " 'great product',\n",
       " 'perfect for travel',\n",
       " 'glad i tried it!!!!',\n",
       " 'candy',\n",
       " 'really good decaf',\n",
       " \"help - i'm chewing jacklinks jerky and i can't stop !!!\",\n",
       " 'loved it!!!!',\n",
       " 'highly recommend trying this',\n",
       " 'still the best out there!!',\n",
       " 'delicious and stinky!',\n",
       " 'not cheap.  but tasty.',\n",
       " 'dream in a cup',\n",
       " 'everything you need for sushi',\n",
       " 'not another like it',\n",
       " 'yummo!  i am a coffee purist',\n",
       " \"shhh - don't let them know these are good for them.\",\n",
       " 'best instant coffee available',\n",
       " 'yummy soup',\n",
       " 'great taste right to my front door!',\n",
       " \"it won't be packaged fancy...\",\n",
       " 'wonderful',\n",
       " \"tasty, satisfying soup, but don't eat too often!\",\n",
       " 'calm magnesium suppliment',\n",
       " 'best seasoning ever!',\n",
       " 'finally! :)',\n",
       " 'great new additions',\n",
       " 'ny egg cream stable but get the kosher product!',\n",
       " 'one of the most important minerals for asthmatics',\n",
       " 'greenies for large dogs',\n",
       " 'delicious bang 4 your buck!',\n",
       " 'fabulous pantry option!!',\n",
       " 'yum, yum. yum!!!!',\n",
       " 'quick and easy',\n",
       " 'perfect!',\n",
       " 'great addition  for our troops overseas.',\n",
       " 'great so far!',\n",
       " 'fresh!',\n",
       " 'love kettle chips',\n",
       " 'great',\n",
       " 'wonderful cherry aroma',\n",
       " 'a lot of crunch & munch for 110 calories',\n",
       " 'wow, this stuff is good',\n",
       " 'amazing idea...',\n",
       " 'excellent product',\n",
       " 'creative tea blends',\n",
       " 'awesome',\n",
       " 'loved it',\n",
       " 'my favorite tea',\n",
       " 'my first amazon purchase',\n",
       " 'excellent treat',\n",
       " 'happy to find them here!',\n",
       " 'it is definitely \"good to the last drop\"',\n",
       " 'my favorite blend',\n",
       " 'homemade sushi made easy',\n",
       " 'wonderful bread',\n",
       " 'delicious and fresh, 10 lb pear jelly belly beans',\n",
       " 'frontier dill weed c/s, 16 ounce bag',\n",
       " 'wonderful product!',\n",
       " 'cured my sore throat in 1 day',\n",
       " 'delicious!',\n",
       " 'repeat buy',\n",
       " 'nut milk bag',\n",
       " 'someone please remove this stuff from my home...',\n",
       " 'great buy',\n",
       " 'a different tchocolate',\n",
       " 'yummy & super easy.',\n",
       " 'wonderful graham style crackers!',\n",
       " 'a tang that packs a punch!',\n",
       " 'i used the blend on chicken...',\n",
       " 'thick and creamy peanut paste',\n",
       " 'wake up!!!!',\n",
       " 'dog likes',\n",
       " 'an explosion for your taste buds',\n",
       " \"you won't believe it\",\n",
       " 'mom',\n",
       " 'coffee cake mix',\n",
       " 'my new favorite tea!',\n",
       " 'sweet',\n",
       " 'only formula my daughter can keep down!!!',\n",
       " 'love them!',\n",
       " 'excellent',\n",
       " 'my cat loves it',\n",
       " 'training aid treats; natural balance training tips.',\n",
       " \"can't live without it\",\n",
       " 'best way to bake a chop.',\n",
       " 'amazing',\n",
       " 'happy baby food is super delicious and nutritious!',\n",
       " 'yummy!!!',\n",
       " \"i love this flavor and don't miss the caffeine\",\n",
       " 'green mountain k-cup',\n",
       " 'baby olivia and her mom just love it!',\n",
       " \"dog's love it\",\n",
       " 'absolutely yum!',\n",
       " 'excellent value',\n",
       " 'wonderful product!',\n",
       " \"i can't believe this is michael keaton!!!\",\n",
       " 'great for disguising pills',\n",
       " 'my dogs love it',\n",
       " 'satisfactory :)',\n",
       " 'love it!!!',\n",
       " 'never knew a tea could taste this good',\n",
       " 'best tea',\n",
       " 'delicious',\n",
       " 'very good raw natural almonds at a great price!',\n",
       " 'great on toast!',\n",
       " 'how to keep the jars from breaking',\n",
       " 'rooibos tea is great',\n",
       " 'yummy, yummy, yummy, i love me some gummies...',\n",
       " 'addictive!',\n",
       " 'shallots on hand all the time',\n",
       " 'great baby/ toddler food!!!!!! for my picky eater',\n",
       " 'wonderful!',\n",
       " 'great product',\n",
       " 'yay i found it',\n",
       " 'really nice treats',\n",
       " 'awesome!',\n",
       " 'love this stuff',\n",
       " 'dried mixed vegetables',\n",
       " 'yumo!',\n",
       " 'greatest!!',\n",
       " 'subscribe and save is great!',\n",
       " 'satisfies my sweet tooth too!',\n",
       " 'new container rocks!',\n",
       " 'delicious!',\n",
       " 'looking for an energy source??',\n",
       " 'friskies cat food prime filet chicken & tuna',\n",
       " 'my cat loves these',\n",
       " 'confusion amongst them',\n",
       " 'worth the convenience',\n",
       " 'keeps a lab puppy busy!',\n",
       " 'this is an excellent source of magnesium--i love it!',\n",
       " 'salt block',\n",
       " 'so delicious and fiberful, you must be careful',\n",
       " 'diabetics with a sweet-tooth --- rejoice!',\n",
       " 'incredible cake!',\n",
       " 'great',\n",
       " 'good stuff',\n",
       " 'almost dr. pepper',\n",
       " 'great nutrition at a great value',\n",
       " 'pure dark roast flavor',\n",
       " 'good stuff',\n",
       " 'yumm',\n",
       " 'delicious medium bodied coffee',\n",
       " 'a great start for the day',\n",
       " 'best of the best catnip!',\n",
       " 'love this!',\n",
       " 'my dogs go crazy for greenies',\n",
       " 'in a word...yum',\n",
       " 'great gummis~~ frest and great tasting everyone loves em',\n",
       " 'smooth and refreshing',\n",
       " 'pill pockets',\n",
       " 'love the taste!!!',\n",
       " 'snack time!!!',\n",
       " 'great for fine hair',\n",
       " 'yum!',\n",
       " 'wonderful!',\n",
       " 'glutino sans gluten free pretzels',\n",
       " 'for more then just cande making',\n",
       " 'simply the best!!',\n",
       " 'best waffle mix ever',\n",
       " 'great for your smoothies',\n",
       " 'good barley',\n",
       " 'great buy!',\n",
       " 'mmmmmm coffee the way i like it',\n",
       " 'love it',\n",
       " 'a definite try',\n",
       " 'good stiff',\n",
       " 'great pretzels',\n",
       " 'same great splenda',\n",
       " 'love my jolly time pop corn',\n",
       " 'my cats love this very healthy food!',\n",
       " 'awesome treats',\n",
       " 'love it for its unintended use',\n",
       " 'this is what converted me',\n",
       " 'great, full-bodied coffee',\n",
       " 'delicious!!!',\n",
       " 'a must for gluten free bakers!',\n",
       " 'these are the best',\n",
       " 'great sugar free alternatives!!!',\n",
       " 'simple the best bacon i have ever had.',\n",
       " 'these are wonderful',\n",
       " 'folgers 100% columbian ground coffee, 10.3 - ounce packages (pack of 6)',\n",
       " 'black tea',\n",
       " 'these are awesome!!',\n",
       " 'dogs love it!!!',\n",
       " 'one caveat...',\n",
       " 'makes my hair smooth!',\n",
       " 'natural calm',\n",
       " 'the only coarse salt for me!',\n",
       " \"finally, baby prunes that aren't like water!\",\n",
       " 'amazing product',\n",
       " 'hiccup hot',\n",
       " 'happy',\n",
       " 'one of the best,. very tasty!!!!!!!!',\n",
       " 'habanero lime margaritas - yum!',\n",
       " 'so, so good',\n",
       " 'tasty',\n",
       " 'great flavor! hard to find in stores!',\n",
       " 'delicious!',\n",
       " 'tasty milk ... anytime.',\n",
       " 'good flavor',\n",
       " 'excellent gluten free pizza crust!!!!',\n",
       " 'great price',\n",
       " 'delicious',\n",
       " 'low fat treats - my dog loves',\n",
       " 'ahmad tea/auto-ship',\n",
       " 'winner winner chicken dinner!',\n",
       " 'red sea salt',\n",
       " 'awesome pb',\n",
       " 'yummy for your tummy',\n",
       " 'authentic',\n",
       " 'very good tea',\n",
       " 'yum!',\n",
       " 'chocolate with a fantastic taste',\n",
       " 'these are great!',\n",
       " 'good old-fashioned granola',\n",
       " 'my dog says \"yummy\"',\n",
       " 'excellent healthy snack',\n",
       " 'natural vitality/ natural calm',\n",
       " 'i am in love with this stuff',\n",
       " 'a low calorie tastey dog chew',\n",
       " 'easily my favorite of the bunch',\n",
       " 'everyone loves these little italian candies!',\n",
       " 'energy and vitamins in one cup',\n",
       " 'good quality, dependable delivery',\n",
       " 'absolutely delicious!',\n",
       " 'oh so good!',\n",
       " 'always delicious',\n",
       " 'authentically seasoned vegan goodness!',\n",
       " 'tropical christmas',\n",
       " 'prince of peace - amazing',\n",
       " 'tea',\n",
       " 'highly recommended...',\n",
       " 'love it!!!!!!!!!',\n",
       " 'if you want real raclette cheese, this is it',\n",
       " 'good!',\n",
       " 'delicious',\n",
       " 'one of the best damn seasoning out there',\n",
       " 'hot stuff',\n",
       " 'we love this stuff',\n",
       " 'yummy',\n",
       " 'worth it',\n",
       " 'excellent with butter cream creamer, by itself or any other creamer',\n",
       " 'great coffee',\n",
       " 'super fresh!!',\n",
       " \"it's dunkin' time again\",\n",
       " 'the best base for chicken broth!',\n",
       " 'my soldier-son loves it!',\n",
       " 'worked wonders on my post-maternity stretch marks!',\n",
       " 'outstanding!!',\n",
       " 'excellent flavor!!',\n",
       " \"one of the best rice blends i've ever tasted\",\n",
       " 'had a lot of bars in my life.... these are simply the best!',\n",
       " ...]"
      ]
     },
     "execution_count": 9,
     "metadata": {},
     "output_type": "execute_result"
    }
   ],
   "source": [
    "review_summaries"
   ]
  },
  {
   "cell_type": "markdown",
   "metadata": {
    "collapsed": true
   },
   "source": [
    "Преобразуйте ```review_summaries``` с помощью ```TfidfVectorizer```."
   ]
  },
  {
   "cell_type": "code",
   "execution_count": 10,
   "metadata": {
    "collapsed": true
   },
   "outputs": [],
   "source": [
    "from sklearn.feature_extraction.text import TfidfVectorizer"
   ]
  },
  {
   "cell_type": "code",
   "execution_count": 11,
   "metadata": {
    "collapsed": true
   },
   "outputs": [],
   "source": [
    "vectorizer = TfidfVectorizer(min_df=1)"
   ]
  },
  {
   "cell_type": "code",
   "execution_count": 12,
   "metadata": {
    "collapsed": true
   },
   "outputs": [],
   "source": [
    "tfidfed = vectorizer.fit_transform(review_summaries)"
   ]
  },
  {
   "cell_type": "code",
   "execution_count": 13,
   "metadata": {
    "collapsed": false
   },
   "outputs": [],
   "source": [
    "from sklearn.cross_validation import train_test_split\n",
    "X = tfidfed#<используйте векторные представления текстов, полученные на предыдущем шаге>\n",
    "y = train_df.Prediction.values\n",
    "X_train, X_test, y_train, y_test = train_test_split(X, y, train_size=0.7, random_state=42)"
   ]
  },
  {
   "cell_type": "markdown",
   "metadata": {},
   "source": [
    "## 3. Логистическая регрессия"
   ]
  },
  {
   "cell_type": "markdown",
   "metadata": {},
   "source": [
    "Логистическая регрессия -- линейный классификатор, который очень часто используется на практике, например, в кредитном скоринге. Преимущества этой модели -- скорость обучения и предсказания (даже при сотнях тысяч фичей) а также интепретируемость: важные признаки имеют бОльшие по модулю веса. \n",
    "\n",
    "При этом отрицательные веса говорят, что фича важна для определения класса 0, а положительные -- для определения класса 1. Это можно понять, если вспомнить, что разделяющая поверхность линейных моделей, это $w^Tx = 0$, а значение алгоритма есть $a(x) = sign(w^Tx)$."
   ]
  },
  {
   "cell_type": "markdown",
   "metadata": {},
   "source": [
    "Будем предсказывать сентимент, подготовим данные и сделаем валидационную выборку. Вы ведь теперь знаете, что нужно оценивать качество модели не по обучающей выборке, а по валидационной. Иначе вы переобучитесь, когда будете тюнить гиперпараметры модели."
   ]
  },
  {
   "cell_type": "markdown",
   "metadata": {},
   "source": [
    "-----\n",
    "** Реализуйте код в модуле ```dmia.classifiers.logistic_regression```.**\n",
    "\n",
    "-----"
   ]
  },
  {
   "cell_type": "code",
   "execution_count": 14,
   "metadata": {
    "collapsed": false,
    "scrolled": true
   },
   "outputs": [],
   "source": [
    "from dmia.gradient_check import *\n",
    "from dmia.classifiers import LogisticRegression\n",
    "from sklearn.metrics import accuracy_score"
   ]
  },
  {
   "cell_type": "markdown",
   "metadata": {},
   "source": [
    "## Gradient check"
   ]
  },
  {
   "cell_type": "markdown",
   "metadata": {},
   "source": [
    "В этой ячейке вы можете проверить, правильно ли у вас все работает, прежде чем обучать модель на всех данных."
   ]
  },
  {
   "cell_type": "markdown",
   "metadata": {},
   "source": [
    "1) можно умножать A.dot(b)\n",
    "\n",
    "2) L(w) + c|w| -> min"
   ]
  },
  {
   "cell_type": "code",
   "execution_count": 93,
   "metadata": {
    "collapsed": false
   },
   "outputs": [
    {
     "name": "stdout",
     "output_type": "stream",
     "text": [
      "numerical: 0.000000 analytic: 0.000000, relative error: nan\n",
      "numerical: 0.000000 analytic: 0.000000, relative error: nan\n",
      "numerical: 0.000000 analytic: 0.000000, relative error: nan\n",
      "numerical: 0.000000 analytic: 0.000000, relative error: nan\n",
      "numerical: 0.000000 analytic: 0.000000, relative error: nan\n",
      "numerical: -0.000155 analytic: 0.000000, relative error: 1.000000e+00\n",
      "numerical: 0.000000 analytic: 0.000000, relative error: nan\n",
      "numerical: 0.000000 analytic: 0.000000, relative error: nan\n",
      "numerical: 0.000000 analytic: 0.000000, relative error: nan\n",
      "numerical: 0.000000 analytic: 0.000000, relative error: nan\n",
      "0.864189263171\n"
     ]
    }
   ],
   "source": [
    "X_train_sample = X_train[:10000]\n",
    "y_train_sample = y_train[:10000]\n",
    "clf = LogisticRegression()\n",
    "clf.w = np.random.randn(X_train_sample.shape[1]+1) * 2\n",
    "loss, grad = clf.loss(LogisticRegression.append_biases(X_train_sample), y_train_sample, 0.0)\n",
    "\n",
    "# Numerically compute the gradient along several randomly chosen dimensions, and\n",
    "# compare them with your analytically computed gradient. The numbers should match\n",
    "# almost exactly along all dimensions.\n",
    "f = lambda w: clf.loss(LogisticRegression.append_biases(X_train_sample), y_train_sample, 0.0)[0]\n",
    "grad_numerical = grad_check_sparse(f, clf.w, grad, 10)\n",
    "print loss"
   ]
  },
  {
   "cell_type": "markdown",
   "metadata": {},
   "source": [
    "Обучите свою модель на ```X_train, y_train```.\n",
    "\n",
    "Для начала можете взять параметры по умолчанию, и найти оптимальные используя валидацию."
   ]
  },
  {
   "cell_type": "code",
   "execution_count": 94,
   "metadata": {
    "collapsed": false
   },
   "outputs": [
    {
     "data": {
      "text/plain": [
       "<dmia.classifiers.logistic_regression.LogisticRegression instance at 0x11a834cf8>"
      ]
     },
     "execution_count": 94,
     "metadata": {},
     "output_type": "execute_result"
    }
   ],
   "source": [
    "clf = LogisticRegression()\n",
    "clf.train(X_train, y_train)"
   ]
  },
  {
   "cell_type": "markdown",
   "metadata": {},
   "source": [
    "Посмотрим на качество на валидации."
   ]
  },
  {
   "cell_type": "code",
   "execution_count": 107,
   "metadata": {
    "collapsed": false,
    "scrolled": true
   },
   "outputs": [
    {
     "name": "stdout",
     "output_type": "stream",
     "text": [
      "Train f1-score = 0.503\n",
      "Test f1-score = 0.496\n"
     ]
    },
    {
     "name": "stderr",
     "output_type": "stream",
     "text": [
      "[autoreload of dmia.classifiers.logistic_regression failed: Traceback (most recent call last):\n",
      "  File \"/Users/Ahan/anaconda/lib/python2.7/site-packages/IPython/extensions/autoreload.py\", line 247, in check\n",
      "    superreload(m, reload, self.old_objects)\n",
      "ImportError: No module named sp\n",
      "]\n"
     ]
    }
   ],
   "source": [
    "print \"Train f1-score = %.3f\" % accuracy_score(y_train, clf.predict(X_train))\n",
    "print \"Test f1-score = %.3f\" % accuracy_score(y_test, clf.predict(X_test))"
   ]
  },
  {
   "cell_type": "markdown",
   "metadata": {},
   "source": [
    "Нарисуем кривые обучения."
   ]
  },
  {
   "cell_type": "code",
   "execution_count": 108,
   "metadata": {
    "collapsed": false,
    "scrolled": true
   },
   "outputs": [
    {
     "name": "stderr",
     "output_type": "stream",
     "text": [
      "100%|██████████| 1000/1000 [00:56<00:00, 17.85it/s]\n"
     ]
    }
   ],
   "source": [
    "clf = LogisticRegression()\n",
    "train_scores = []\n",
    "test_scores = []\n",
    "num_iter = 1000\n",
    "\n",
    "for i in tqdm.trange(num_iter):\n",
    "    # Сделайте один шаг градиентного спуска с помощью num_iters=1\n",
    "    clf.train(X_train,y_train,num_iters=1)\n",
    "    train_scores.append(accuracy_score(y_train, clf.predict(X_train)))\n",
    "    test_scores.append(accuracy_score(y_test, clf.predict(X_test)))"
   ]
  },
  {
   "cell_type": "code",
   "execution_count": 109,
   "metadata": {
    "collapsed": false
   },
   "outputs": [
    {
     "data": {
      "text/plain": [
       "[<matplotlib.lines.Line2D at 0x11cd105d0>,\n",
       " <matplotlib.lines.Line2D at 0x11cd10810>]"
      ]
     },
     "execution_count": 109,
     "metadata": {},
     "output_type": "execute_result"
    },
    {
     "data": {
      "image/png": "[encoded data removed]",
      "text/plain": [
       "<matplotlib.figure.Figure at 0x11c1523d0>"
      ]
     },
     "metadata": {},
     "output_type": "display_data"
    }
   ],
   "source": [
    "plt.figure(figsize=(10,8))\n",
    "plt.plot(train_scores, 'r', test_scores, 'b')"
   ]
  },
  {
   "cell_type": "markdown",
   "metadata": {},
   "source": [
    "## 4. Задание\n",
    "\n",
    "* Обучите вашу модель **на всех данных**, преобразовав их через ```TfidfVectorizer``` с ```max_features=3000```.\n",
    "\n",
    "* Параметры модели ```learning_rate=1.0, num_iters=1000, batch_size=256, reg=1e-3``` и выведите первые 5 самых важных фичей для класса 1 и 5 фичей для класса 0. Убедитесь, что они коррелируют с вашей интуицией о хороших/плохих отзывах. \n",
    "\n",
    "\n",
    "* Топ позитивных фичей перечислите через запятую под пунктом 1 в письме с кодом.\n",
    "\n",
    "* Топ негативных фичей перечислите через запятую под пунктом 1 в письме с кодом.\n",
    "\n",
    "\n",
    "**Hint:** зная индекс фичи, само слово вы можете получить, используя метод ```vectorizer.get_feature_names()```.\n",
    "\n",
    "**Hint:** ```np.argsort```."
   ]
  },
  {
   "cell_type": "code",
   "execution_count": 88,
   "metadata": {
    "collapsed": false
   },
   "outputs": [],
   "source": [
    "vectorizer = TfidfVectorizer(min_df=1,max_features=3000)\n",
    "tfidfed = vectorizer.fit_transform(review_summaries)\n",
    "X = tfidfed#<используйте векторные представления текстов, полученные на предыдущем шаге>\n",
    "y = train_df.Prediction.values"
   ]
  },
  {
   "cell_type": "code",
   "execution_count": 90,
   "metadata": {
    "collapsed": false
   },
   "outputs": [
    {
     "name": "stdout",
     "output_type": "stream",
     "text": [
      "[ -1.02360356e+23  -1.02360356e+23  -1.02360356e+23 ...,  -1.02360356e+23\n",
      "  -1.02360356e+23  -1.02360356e+23]\n"
     ]
    }
   ],
   "source": [
    "# Обучите модель\n",
    "clf = LogisticRegression()\n",
    "clf.train(X, y, num_iters=1000,learning_rate=1.0, batch_size=256, reg=1e-3)\n",
    "print clf.w"
   ]
  },
  {
   "cell_type": "code",
   "execution_count": null,
   "metadata": {
    "collapsed": true
   },
   "outputs": [],
   "source": [
    "# Получите индексы фичей\n",
    "pos_features = ...\n",
    "neg_features = ..."
   ]
  },
  {
   "cell_type": "code",
   "execution_count": null,
   "metadata": {
    "collapsed": true
   },
   "outputs": [],
   "source": [
    "# Выведите слова\n",
    "..."
   ]
  },
  {
   "cell_type": "markdown",
   "metadata": {},
   "source": [
    "## 5. Сравнение с sklearn.linear_model.LogisticRegression"
   ]
  },
  {
   "cell_type": "markdown",
   "metadata": {},
   "source": [
    "Обучите такую же модель, но из пакета ```sklearn.linear_model``` и убедитесь, что ваша имплементация ничем не хуже (ну или почти не хуже)."
   ]
  },
  {
   "cell_type": "code",
   "execution_count": 101,
   "metadata": {
    "collapsed": true
   },
   "outputs": [],
   "source": [
    "from sklearn import linear_model"
   ]
  },
  {
   "cell_type": "code",
   "execution_count": 102,
   "metadata": {
    "collapsed": true
   },
   "outputs": [],
   "source": [
    "clf = ..."
   ]
  },
  {
   "cell_type": "code",
   "execution_count": 175,
   "metadata": {
    "collapsed": false
   },
   "outputs": [
    {
     "name": "stdout",
     "output_type": "stream",
     "text": [
      "Train accuracy = 0.522\n",
      "Test accuracy = 0.521\n"
     ]
    }
   ],
   "source": [
    "print \"Train accuracy = %.3f\" % accuracy_score(y_train, clf.predict(X_train))\n",
    "print \"Test accuracy = %.3f\" % accuracy_score(y_test, clf.predict(X_test))"
   ]
  },
  {
   "cell_type": "markdown",
   "metadata": {},
   "source": [
    "## 6. Что дальше?\n",
    "* Нам повезло, что классы в нашем датасете сбалансированы. Какие проблемы возникнут у логистической регрессии, если, скажем, будет 90% нулевого класса и 10% первого. Как нужно изменить код, чтобы исправить эту проблему? Постарайтесь придумать не менее 2х способов.\n",
    "* Почему мы не делаем регуляризацию для bias term в весах? Может, все таки, в каких-то случаях ее стоит делать?\n",
    "\n",
    "Ответы на вопросы напишите здесь."
   ]
  },
  {
   "cell_type": "markdown",
   "metadata": {},
   "source": [
    "-----\n",
    "<h1 align='center'>Part 2: Boosting</h1>"
   ]
  },
  {
   "cell_type": "markdown",
   "metadata": {
    "collapsed": true
   },
   "source": [
    "### Градиентный спуск\n",
    "\n",
    "Самый простой метод минимизации функции, для оптимизации в каждый момент времени двигаемся по антиградиенту функции с каким-то шагом. \n",
    "\n",
    "\n",
    "$$w_{n+1} = w_n - s \\cdot \\frac{\\partial f}{\\partial w}$$\n",
    "\n",
    "### Градиентный бустинг\n",
    "\n",
    "Теперь давайте представим, что на каждом шаге мы оптимизируем не параметры алгоритма $w$, а ответы нашего алгоритма $\\hat{y}$.\n",
    "\n",
    "**Обучение**: На каждом шаге, давайте предсказывать градиент на каждом объекте и \"двигать\" ответ в сторону улучшения (антиградиента).\n",
    "\n",
    "**Как в итоге обучать**:\n",
    "- Первый алгоритм отвечает константу \n",
    "- Добавляем базовые алгоритмы $b_i$, $i = 1, .., N$:\n",
    "    - Вычисляем градиент функции потерь ПО ОТВЕТАМ модели $g_{i-1} = \\frac{\\partial L(\\hat{y},~~y)}{\\partial \\hat{y}} = \\frac{\\partial L(\\sum_{j=0}^{i-1} a_j b_j(x),~~y)}{\\partial \\sum_{j=0}^{i-1} a_j b_j(x)}$ на каждом объекте  \n",
    "    - Обучаем $b_i$ предсказывать текущий $g_{i-1}$\n",
    "    - Подбираем $a_i$ -- одномерной минимизацией \n",
    "    - Дополняем композицию $\\sum_{j=0}^{i-1} a_j b_j (x) + a_i b_i(x)$"
   ]
  },
  {
   "cell_type": "markdown",
   "metadata": {},
   "source": [
    "## 1. Simple test"
   ]
  },
  {
   "cell_type": "markdown",
   "metadata": {},
   "source": [
    "-----\n",
    "** Реализуйте код в модуле ```dmia.classifiers.binary_boosting```.**\n",
    "\n",
    "-----"
   ]
  },
  {
   "cell_type": "code",
   "execution_count": 24,
   "metadata": {
    "collapsed": true
   },
   "outputs": [],
   "source": [
    "from dmia.classifiers import BinaryBoostingClassifier\n",
    "import matplotlib.pyplot as plt\n",
    "from sklearn.datasets import make_classification\n",
    "from dmia.utils import plot_surface\n",
    "\n",
    "X, y = make_classification(n_samples=500, n_features=2,\n",
    "                           n_informative=2, n_redundant=0, n_repeated=0,\n",
    "                           n_classes=2, n_clusters_per_class=2,\n",
    "                           flip_y=0.05, class_sep=0.8, random_state=241)\n",
    "y = 2*(y-0.5)"
   ]
  },
  {
   "cell_type": "code",
   "execution_count": 106,
   "metadata": {
    "collapsed": false
   },
   "outputs": [
    {
     "data": {
      "image/png": "[encoded data removed]",
      "text/plain": [
       "<matplotlib.figure.Figure at 0x12e319650>"
      ]
     },
     "metadata": {},
     "output_type": "display_data"
    }
   ],
   "source": [
    "clf = BinaryBoostingClassifier(n_estimators=100).fit(X, y)\n",
    "plot_surface(X, y, clf)"
   ]
  },
  {
   "cell_type": "markdown",
   "metadata": {},
   "source": [
    "## 2. Outliers"
   ]
  },
  {
   "cell_type": "markdown",
   "metadata": {},
   "source": [
    "Посмотрим на выбросы."
   ]
  },
  {
   "cell_type": "code",
   "execution_count": 107,
   "metadata": {
    "collapsed": false
   },
   "outputs": [
    {
     "data": {
      "image/png": "[encoded data removed]",
      "text/plain": [
       "<matplotlib.figure.Figure at 0x13b7d4310>"
      ]
     },
     "metadata": {},
     "output_type": "display_data"
    }
   ],
   "source": [
    "outliers_indices = clf.out_\n",
    "plot_surface(X[outliers_indices], y[outliers_indices], clf)"
   ]
  },
  {
   "cell_type": "markdown",
   "metadata": {},
   "source": [
    "## 3. Sentiment"
   ]
  },
  {
   "cell_type": "markdown",
   "metadata": {},
   "source": [
    "Вы обучали логистическую регрессию на 1000+ фичах и это было быстро.\n",
    "\n",
    "Как вы думаете, разумно ли обучать бустинг над деревьями на 1000 фичах? А на 10000? 100000? Обоснуйте ответ в каждом случае. Если не разумно, то что можно предпринять?\n",
    "\n",
    "Ответ напишите ниже."
   ]
  },
  {
   "cell_type": "markdown",
   "metadata": {},
   "source": []
  },
  {
   "cell_type": "code",
   "execution_count": 29,
   "metadata": {
    "collapsed": false
   },
   "outputs": [
    {
     "name": "stdout",
     "output_type": "stream",
     "text": [
      "Train accuracy = 0.497\n",
      "Test accuracy = 0.504\n"
     ]
    }
   ],
   "source": [
    "clf = BinaryBoostingClassifier(n_estimators=100, max_depth=3).fit(X_train, y_train)\n",
    "\n",
    "print \"Train accuracy = %.3f\" % accuracy_score(y_train, clf.predict(X_train))\n",
    "print \"Test accuracy = %.3f\" % accuracy_score(y_test, clf.predict(X_test))"
   ]
  },
  {
   "cell_type": "markdown",
   "metadata": {},
   "source": [
    "## 4. Посмотрим на ```feature_importances_```\n",
    "\n",
    "* Обучите бустинг **на всех данных**, обработав ```review_summaries``` с помощью ```TfidfVectorizer``` с ```max_features=1000```.\n",
    "\n",
    "* Параметры модели возьмите ```lr=0.1, n_estimators=100, max_depth=3```.\n",
    "\n",
    "* Найдите топ-10 самых важных фичей с точки зрения алгоритма.\n",
    "\n",
    "* Перечислите эти 10 слов через запятую под пунктом 3 в своем письме с кодом."
   ]
  },
  {
   "cell_type": "code",
   "execution_count": 43,
   "metadata": {
    "collapsed": false
   },
   "outputs": [
    {
     "data": {
      "text/plain": [
       "BinaryBoostingClassifier(lr=0.1, max_depth=None, n_estimators=100)"
      ]
     },
     "execution_count": 43,
     "metadata": {},
     "output_type": "execute_result"
    }
   ],
   "source": [
    "vectorizer = TfidfVectorizer(max_features=1000)\n",
    "tfidfed = vectorizer.fit_transform(review_summaries)\n",
    "\n",
    "clf = BinaryBoostingClassifier(n_estimators=100, max_depth=3)\n",
    "clf.fit(tfidfed, train_df.Prediction.values)"
   ]
  },
  {
   "cell_type": "code",
   "execution_count": 34,
   "metadata": {
    "collapsed": false
   },
   "outputs": [],
   "source": [
    "most_imp_features = ..."
   ]
  },
  {
   "cell_type": "code",
   "execution_count": null,
   "metadata": {
    "collapsed": true
   },
   "outputs": [],
   "source": [
    "# Напечатайте слова\n",
    "..."
   ]
  },
  {
   "cell_type": "markdown",
   "metadata": {},
   "source": [
    "## 5. Сравнение с sklearn.ensemble.GradientBoostingClassifier"
   ]
  },
  {
   "cell_type": "markdown",
   "metadata": {},
   "source": [
    "Обучите градиентный бустинг из ```sklearn``` и сравните его качество на ```X_test``` с вашим (Оно не должно отличаться на много процентов! Вы образали деревья?)"
   ]
  },
  {
   "cell_type": "code",
   "execution_count": 46,
   "metadata": {
    "collapsed": true
   },
   "outputs": [],
   "source": [
    "from sklearn.ensemble import GradientBoostingClassifier"
   ]
  },
  {
   "cell_type": "code",
   "execution_count": null,
   "metadata": {
    "collapsed": true
   },
   "outputs": [],
   "source": [
    "clf = ..."
   ]
  },
  {
   "cell_type": "code",
   "execution_count": null,
   "metadata": {
    "collapsed": true
   },
   "outputs": [],
   "source": [
    "print \"Train accuracy = %.3f\" % accuracy_score(y_train, clf.predict(X_train))\n",
    "print \"Test accuracy = %.3f\" % accuracy_score(y_test, clf.predict(X_test))"
   ]
  }
 ],
 "metadata": {
  "anaconda-cloud": {},
  "kernelspec": {
   "display_name": "Python 2",
   "language": "python",
   "name": "python2"
  },
  "language_info": {
   "codemirror_mode": {
    "name": "ipython",
    "version": 2
   },
   "file_extension": ".py",
   "mimetype": "text/x-python",
   "name": "python",
   "nbconvert_exporter": "python",
   "pygments_lexer": "ipython2",
   "version": "2.7.12"
  }
 },
 "nbformat": 4,
 "nbformat_minor": 0
}
